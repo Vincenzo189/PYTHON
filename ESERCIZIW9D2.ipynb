{
 "cells": [
  {
   "cell_type": "code",
   "execution_count": 1,
   "id": "95de0aa3-d801-4c72-aecf-a2d29935a126",
   "metadata": {},
   "outputs": [],
   "source": [
    "#ESERCIZIO 1 Stampare ogni carattere della stringa, uno su ogni riga, utilizzando un costrutto while."
   ]
  },
  {
   "cell_type": "code",
   "execution_count": 4,
   "id": "da7836cb-1016-459c-ae7b-c4bda9b2c925",
   "metadata": {},
   "outputs": [
    {
     "name": "stdout",
     "output_type": "stream",
     "text": [
      "E\n",
      "p\n",
      "i\n",
      "c\n",
      "o\n",
      "d\n",
      "e\n"
     ]
    }
   ],
   "source": [
    "nome_scuola = \"Epicode\"\n",
    "stringa = len(nome_scuola)\n",
    "cont = 0\n",
    "while cont < stringa:\n",
    "    print (nome_scuola[cont])\n",
    "    cont += 1"
   ]
  },
  {
   "cell_type": "code",
   "execution_count": 5,
   "id": "2aaca6cb-209a-4519-bf81-d7e2355dc9cd",
   "metadata": {},
   "outputs": [],
   "source": [
    "#ESERCIZIO 2 Stampare a video tutti i numeri da 0 a 20 utilizzando il costrutto while"
   ]
  },
  {
   "cell_type": "code",
   "execution_count": 1,
   "id": "d6994802-1272-4f7d-9d2b-80ac523ee64f",
   "metadata": {},
   "outputs": [
    {
     "name": "stdout",
     "output_type": "stream",
     "text": [
      "0\n",
      "1\n",
      "2\n",
      "3\n",
      "4\n",
      "5\n",
      "6\n",
      "7\n",
      "8\n",
      "9\n",
      "10\n",
      "11\n",
      "12\n",
      "13\n",
      "14\n",
      "15\n",
      "16\n",
      "17\n",
      "18\n",
      "19\n",
      "20\n"
     ]
    }
   ],
   "source": [
    "numero = 0\n",
    "limite = 20\n",
    "\n",
    "while numero <= limite:\n",
    "    print (numero)\n",
    "    numero += 1"
   ]
  },
  {
   "cell_type": "code",
   "execution_count": 2,
   "id": "c60399b7-9c04-4ccb-9e13-eec603e04dc5",
   "metadata": {},
   "outputs": [],
   "source": [
    "#ESERCIZIO 3 Calcolare e stampare tutte le prime 10 potenze di 2"
   ]
  },
  {
   "cell_type": "code",
   "execution_count": 15,
   "id": "06ea49a6-eb22-40b1-852c-0f152a633539",
   "metadata": {},
   "outputs": [
    {
     "name": "stdout",
     "output_type": "stream",
     "text": [
      "2^ 0 = 1\n",
      "2^ 1 = 2\n",
      "2^ 2 = 4\n",
      "2^ 3 = 8\n",
      "2^ 4 = 16\n",
      "2^ 5 = 32\n",
      "2^ 6 = 64\n",
      "2^ 7 = 128\n",
      "2^ 8 = 256\n",
      "2^ 9 = 512\n"
     ]
    }
   ],
   "source": [
    "esponente = 0\n",
    "limite = 9\n",
    "\n",
    "while esponente <= limite:\n",
    "    potenza = 2 ** esponente\n",
    "    print (\"2^\", esponente, \"=\", potenza)\n",
    "    esponente += 1"
   ]
  },
  {
   "cell_type": "code",
   "execution_count": null,
   "id": "107252e9-3ceb-4619-9da0-08853f405827",
   "metadata": {},
   "outputs": [],
   "source": [
    "#ESERCIZIO 4 Calcolare e stampare tutte le prime N potenze di 2 utilizzando un ciclo while, domandando all'utente di inserire N."
   ]
  },
  {
   "cell_type": "code",
   "execution_count": 14,
   "id": "8a401f5d-ed52-4587-a264-d00deef361f6",
   "metadata": {},
   "outputs": [
    {
     "name": "stdin",
     "output_type": "stream",
     "text": [
      "Inserisci N potenze di 2 da calcolare = 15\n"
     ]
    },
    {
     "name": "stdout",
     "output_type": "stream",
     "text": [
      "2^ 0 = 1\n",
      "2^ 1 = 2\n",
      "2^ 2 = 4\n",
      "2^ 3 = 8\n",
      "2^ 4 = 16\n",
      "2^ 5 = 32\n",
      "2^ 6 = 64\n",
      "2^ 7 = 128\n",
      "2^ 8 = 256\n",
      "2^ 9 = 512\n",
      "2^ 10 = 1024\n",
      "2^ 11 = 2048\n",
      "2^ 12 = 4096\n",
      "2^ 13 = 8192\n",
      "2^ 14 = 16384\n",
      "2^ 15 = 32768\n"
     ]
    }
   ],
   "source": [
    "esponente = 0\n",
    "N = input(\"Inserisci N potenze di 2 da calcolare =\")\n",
    "N = int(N)\n",
    "while esponente <= N:\n",
    "    potenza = 2 ** esponente\n",
    "    print (\"2^\", esponente, \"=\", potenza)\n",
    "    esponente += 1"
   ]
  },
  {
   "cell_type": "code",
   "execution_count": null,
   "id": "a4a2c398-daaf-4cdf-b37b-cf7ba1f7f853",
   "metadata": {},
   "outputs": [],
   "source": [
    "#ESERCIZIO 5 Calcolare e stampare tutte le potenze di 2 minori di 25000."
   ]
  },
  {
   "cell_type": "code",
   "execution_count": 17,
   "id": "1934aee8-665b-4486-ad13-feda023b67e2",
   "metadata": {},
   "outputs": [
    {
     "name": "stdout",
     "output_type": "stream",
     "text": [
      "2^ 0 = 1\n",
      "2^ 1 = 2\n",
      "2^ 2 = 4\n",
      "2^ 3 = 8\n",
      "2^ 4 = 16\n",
      "2^ 5 = 32\n",
      "2^ 6 = 64\n",
      "2^ 7 = 128\n",
      "2^ 8 = 256\n",
      "2^ 9 = 512\n",
      "2^ 10 = 1024\n",
      "2^ 11 = 2048\n",
      "2^ 12 = 4096\n",
      "2^ 13 = 8192\n",
      "2^ 14 = 16384\n",
      "Ho finito, l'ultima potenza non inclusa è 2^ 15 = 32768\n"
     ]
    }
   ],
   "source": [
    "esponente = 0\n",
    "totale_potenza = 1 #perchè il primo risultato di ogni potenza è 1\n",
    "limite = 25000\n",
    "while totale_potenza < limite:\n",
    "    print (\"2^\", esponente, \"=\", totale_potenza)\n",
    "    esponente += 1\n",
    "    totale_potenza = 2 ** esponente\n",
    "\n",
    "print (\"Ho finito, l'ultima potenza non inclusa è 2^\", esponente, \"=\", totale_potenza)\n",
    "    "
   ]
  },
  {
   "cell_type": "code",
   "execution_count": 16,
   "id": "3fe560a4-f328-4f68-8fa1-0725f22e0305",
   "metadata": {},
   "outputs": [],
   "source": [
    "# ESERCIZIO 6 Scriviamo un programma che chiede in input all'utente una stringa e visualizza i primi 3 caratteri, \n",
    "#seguiti da 3 punti di sospensione e quindi gli ultimi 3 caratteri, similmente all'esercizio della lezione scorsa. \n",
    "#Stavolta facciamo attenzione a tutti i casi particolari, ovvero implementare soluzioni ad hoc per stringhe di lunghezza inferiore a 6 caratteri."
   ]
  },
  {
   "cell_type": "code",
   "execution_count": 30,
   "id": "582cccf2-7572-4f78-bc49-c99886e7314f",
   "metadata": {},
   "outputs": [
    {
     "name": "stdin",
     "output_type": "stream",
     "text": [
      "Inserisci una stringa:  Ciao mondo\n"
     ]
    },
    {
     "name": "stdout",
     "output_type": "stream",
     "text": [
      "Cia...ndo\n"
     ]
    }
   ],
   "source": [
    "stringa = input(\"Inserisci una stringa: \")\n",
    "lunghezza = len(stringa)\n",
    "if lunghezza < 3:\n",
    "    print(stringa)\n",
    "elif lunghezza < 6:\n",
    "    print(stringa[0] + \"...\" + stringa[-1])\n",
    "else:\n",
    "    print(stringa[:3] + \"...\" + stringa[-3:])"
   ]
  },
  {
   "cell_type": "code",
   "execution_count": null,
   "id": "c1f225cb-3371-4dab-bb73-37f76dfe0460",
   "metadata": {},
   "outputs": [],
   "source": [
    "#ESERCIZIO 7 Memorizza e stampa tutti i fattori di un numero dato in input \n",
    "#(cioè tutti i numeri primi che, moltiplicati tra di loro, danno il numero di partenza)."
   ]
  },
  {
   "cell_type": "code",
   "execution_count": 3,
   "id": "9280e654-42bb-48f4-b318-50614bbbea75",
   "metadata": {},
   "outputs": [
    {
     "name": "stdin",
     "output_type": "stream",
     "text": [
      "fornire un numero 200\n"
     ]
    },
    {
     "name": "stdout",
     "output_type": "stream",
     "text": [
      "2\n",
      "2\n",
      "2\n",
      "5\n",
      "5\n"
     ]
    }
   ],
   "source": [
    "N = int(input(\"fornire un numero\"))\n",
    "\n",
    "divisore = 2\n",
    "\n",
    "while N>1:\n",
    "    while N%divisore==0:\n",
    "        print(divisore)\n",
    "        N=N//divisore\n",
    "    divisore=divisore+1"
   ]
  },
  {
   "cell_type": "code",
   "execution_count": null,
   "id": "09c38b26-462a-410c-b66b-000dd920606d",
   "metadata": {},
   "outputs": [],
   "source": [
    "#ESERCIZIO 8 Abbiamo la stringa: nome_scuola = \"Epicode\" Stampare ogni carattere della stringa, uno su ogni riga, utilizzando un costrutto for."
   ]
  },
  {
   "cell_type": "code",
   "execution_count": 31,
   "id": "5e4c5173-a5dd-4440-bcac-c369fc8c0041",
   "metadata": {},
   "outputs": [
    {
     "name": "stdout",
     "output_type": "stream",
     "text": [
      "E\n",
      "p\n",
      "i\n",
      "c\n",
      "o\n",
      "d\n",
      "e\n"
     ]
    }
   ],
   "source": [
    "nome_scuola = \"Epicode\"\n",
    "for i in nome_scuola:\n",
    "    print(i)"
   ]
  },
  {
   "cell_type": "code",
   "execution_count": null,
   "id": "b3513497-2645-4c60-9f46-9c3e5dcaeb4c",
   "metadata": {},
   "outputs": [],
   "source": [
    "#ESERCIZIO 9 Calcolare e stampare tutte le prime 10 potenze di 2 utilizzando un ciclo. Per eseguire un certo numero di volte un ciclo \n",
    "#si può utilizzare la funzione built-in range(), ad esempio:"
   ]
  },
  {
   "cell_type": "code",
   "execution_count": 32,
   "id": "db597e99-6678-4916-9031-fb09c73583cc",
   "metadata": {},
   "outputs": [
    {
     "name": "stdout",
     "output_type": "stream",
     "text": [
      "2^ 0 = 1\n",
      "2^ 1 = 2\n",
      "2^ 2 = 4\n",
      "2^ 3 = 8\n",
      "2^ 4 = 16\n",
      "2^ 5 = 32\n",
      "2^ 6 = 64\n",
      "2^ 7 = 128\n",
      "2^ 8 = 256\n",
      "2^ 9 = 512\n"
     ]
    }
   ],
   "source": [
    "for i in range(10):\n",
    "    print(\"2^\", i, \"=\", 2**i)"
   ]
  },
  {
   "cell_type": "code",
   "execution_count": null,
   "id": "7eb08bce-6c23-4482-97f6-8465062a0b7d",
   "metadata": {},
   "outputs": [],
   "source": [
    "#ESERCIZIO 10 Calcolare (ma non stampare) le prime N potenze di K; ognuna di esse andrà memorizzata in coda a una lista.\n",
    "#Alla fine, stampare la lista risultante. Proviamo con diversi valori di K, oppure facciamola inserire all'utente."
   ]
  },
  {
   "cell_type": "code",
   "execution_count": 2,
   "id": "52092a8d-81b4-49a6-9466-4d15c2046d13",
   "metadata": {},
   "outputs": [
    {
     "name": "stdout",
     "output_type": "stream",
     "text": [
      "Le prime 15 potenze di 7 sono:\n",
      "[1, 7, 49, 343, 2401, 16807, 117649, 823543, 5764801, 40353607, 282475249, 1977326743, 13841287201, 96889010407, 678223072849]\n"
     ]
    }
   ],
   "source": [
    "N = 15\n",
    "K = 7\n",
    "\n",
    "potenze = []\n",
    "\n",
    "for esponente in range(N):\n",
    "    potenza = K ** esponente\n",
    "    potenze.append( potenza )\n",
    "\n",
    "print( f\"Le prime {N} potenze di {K} sono:\" )\n",
    "print( potenze )"
   ]
  },
  {
   "cell_type": "code",
   "execution_count": null,
   "id": "82b4b95d-30a4-4a57-b138-d7a3bed6d803",
   "metadata": {},
   "outputs": [],
   "source": [
    "#ESERCIZIO 11 usando un costrutto for, calcolare la media dei guadagni e stamparla a video."
   ]
  },
  {
   "cell_type": "code",
   "execution_count": 38,
   "id": "31e1b867-f8ac-45c9-b8a4-0be91ef25c6b",
   "metadata": {},
   "outputs": [
    {
     "name": "stdout",
     "output_type": "stream",
     "text": [
      "La media dei guadagni è 70.0\n"
     ]
    }
   ],
   "source": [
    "guadagni = [100, 90, 70, 40, 50, 80, 90, 120, 80, 20, 50, 50]\n",
    "somma = 0\n",
    "for guadagno in guadagni:\n",
    "    somma += guadagno\n",
    "    media = somma / len(guadagni)\n",
    "\n",
    "print (\"La media dei guadagni è\", media)"
   ]
  },
  {
   "cell_type": "code",
   "execution_count": null,
   "id": "5a93566f-027d-4e74-83e0-fda3f5cc7ea7",
   "metadata": {},
   "outputs": [],
   "source": [
    "#ESERCIZIO 12 stampiamo, per ogni parola, quante volte appare la lettera \"e\"; facciamo attenzione al fatto che appare sia maiuscola che minuscola."
   ]
  },
  {
   "cell_type": "code",
   "execution_count": 46,
   "id": "130e7466-11c5-4910-b9fb-2e6e34ddecab",
   "metadata": {},
   "outputs": [
    {
     "name": "stdout",
     "output_type": "stream",
     "text": [
      "La lettera 'e' appare 1 volte nella parola Albergo\n",
      "La lettera 'e' appare 1 volte nella parola Sedia\n",
      "La lettera 'e' appare 0 volte nella parola Borgo\n",
      "La lettera 'e' appare 1 volte nella parola Petalo\n",
      "La lettera 'e' appare 2 volte nella parola Eremo\n",
      "La lettera 'e' appare 4 volte nella parola Belvedere\n",
      "La lettera 'e' appare 3 volte nella parola Semestre\n",
      "La lettera 'e' appare 2 volte nella parola Esteta\n",
      "La lettera 'e' appare 0 volte nella parola Sosta\n",
      "La lettera 'e' appare 1 volte nella parola Orpello\n",
      "La lettera 'e' appare 2 volte nella parola Abete\n",
      "La lettera 'e' appare 0 volte nella parola Orologio\n",
      "La lettera 'e' appare 1 volte nella parola Cesta\n",
      "La lettera 'e' appare 2 volte nella parola Ermellino\n"
     ]
    }
   ],
   "source": [
    "parole = [\"Albergo\", \"Sedia\", \"Borgo\", \"Petalo\", \"Eremo\", \"Belvedere\", \"Semestre\", \"Esteta\", \"Sosta\", \"Orpello\", \"Abete\", \"Orologio\", \"Cesta\", \"Ermellino\"]\n",
    "parola.lower()\n",
    "for parola in parole:\n",
    "    minuscolo = parola.lower()\n",
    "    conteggio = minuscolo.count(\"e\")\n",
    "    print (\"La lettera 'e' appare\", conteggio, \"volte nella parola\", parola)"
   ]
  },
  {
   "cell_type": "code",
   "execution_count": 47,
   "id": "f95ec77f-dcd4-45a4-9eaa-29080588cbcf",
   "metadata": {},
   "outputs": [],
   "source": [
    "#ESERCIZIO 13 Creiamo un dizionario che assegni ad ogni proprietario la sua auto e Stampiamo il dizionario per intero, e poi l'auto associata a Debbie."
   ]
  },
  {
   "cell_type": "code",
   "execution_count": 62,
   "id": "827d81a7-5e02-45a5-ad72-07375a57c0b0",
   "metadata": {},
   "outputs": [
    {
     "name": "stdout",
     "output_type": "stream",
     "text": [
      "{'Ada': 'Punto', 'Ben': 'Multipla', 'Charlie': 'Golf', 'Debbie': '107'}\n",
      "107\n"
     ]
    }
   ],
   "source": [
    "proprietari = {\n",
    "    \"Ada\" : \"Punto\",\n",
    "    \"Ben\" : \"Multipla\",\n",
    "    \"Charlie\" : \"Golf\",\n",
    "    \"Debbie\" : \"107\"\n",
    "}\n",
    "print (proprietari)\n",
    "print (proprietari[\"Debbie\"])\n"
   ]
  },
  {
   "cell_type": "code",
   "execution_count": null,
   "id": "9fb3e74f-5382-49da-a561-1014b0b4121b",
   "metadata": {},
   "outputs": [],
   "source": [
    "#ESERCIZIO 14 Con un ciclo, e usando il metodo .values(), stampiamo a video tutte le auto che non sono una Multipla."
   ]
  },
  {
   "cell_type": "code",
   "execution_count": 57,
   "id": "c0fe2704-45a7-41d7-8830-e3826204e6d7",
   "metadata": {},
   "outputs": [
    {
     "name": "stdout",
     "output_type": "stream",
     "text": [
      "Punto\n",
      "Golf\n",
      "107\n"
     ]
    }
   ],
   "source": [
    "dizionario_auto = {\n",
    "    \"Ada\" : \"Punto\",\n",
    "    \"Ben\" : \"Multipla\",\n",
    "    \"Charlie\" : \"Golf\",\n",
    "    \"Debbie\" : \"107\"\n",
    "}\n",
    "for auto in dizionario_auto.values():\n",
    "    if auto != \"Multipla\":\n",
    "        print(auto)"
   ]
  },
  {
   "cell_type": "code",
   "execution_count": 58,
   "id": "e2f286f8-f2e8-4a1b-9f60-06b90c8e674a",
   "metadata": {},
   "outputs": [],
   "source": [
    "#ESERCIZIO 15 Aggiornare il dizionario dizionario_auto con i dati contenuti in nuovi_proprietari e stamparlo. Cosa è successo a Ben?"
   ]
  },
  {
   "cell_type": "code",
   "execution_count": 60,
   "id": "69cece9a-a192-43a7-83c4-e02393f12501",
   "metadata": {},
   "outputs": [
    {
     "name": "stdout",
     "output_type": "stream",
     "text": [
      "{'Ada': 'Punto', 'Ben': 'Polo', 'Charlie': 'Golf', 'Debbie': '107', 'Fred': 'Octavia', 'Grace': 'Yaris', 'Hugh': 'Clio'}\n"
     ]
    }
   ],
   "source": [
    "dizionario_auto = {\n",
    "    \"Ada\" : \"Punto\",\n",
    "    \"Ben\" : \"Multipla\",\n",
    "    \"Charlie\" : \"Golf\",\n",
    "    \"Debbie\" : \"107\"\n",
    "}\n",
    "nuovi_proprietari = {\n",
    "    \"Ben\": \"Polo\", \n",
    "    \"Fred\": \"Octavia\", \n",
    "    \"Grace\": \"Yaris\", \n",
    "    \"Hugh\": \"Clio\"\n",
    "}\n",
    "dizionario_auto.update(nuovi_proprietari)\n",
    "print (dizionario_auto)\n"
   ]
  },
  {
   "cell_type": "code",
   "execution_count": null,
   "id": "53cf06e0-5b40-4a3c-915f-b6c8bda07a43",
   "metadata": {},
   "outputs": [],
   "source": [
    "#con update il valore di Ben viene sovrascritto con il nuovo valore"
   ]
  },
  {
   "cell_type": "code",
   "execution_count": null,
   "id": "789b0d69-f637-4786-a33a-054ad8eac5b6",
   "metadata": {},
   "outputs": [],
   "source": []
  }
 ],
 "metadata": {
  "kernelspec": {
   "display_name": "Python [conda env:base] *",
   "language": "python",
   "name": "conda-base-py"
  },
  "language_info": {
   "codemirror_mode": {
    "name": "ipython",
    "version": 3
   },
   "file_extension": ".py",
   "mimetype": "text/x-python",
   "name": "python",
   "nbconvert_exporter": "python",
   "pygments_lexer": "ipython3",
   "version": "3.12.7"
  }
 },
 "nbformat": 4,
 "nbformat_minor": 5
}

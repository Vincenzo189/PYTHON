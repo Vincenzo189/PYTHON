{
 "cells": [
  {
   "cell_type": "code",
   "execution_count": 15,
   "id": "13ab8437-3ad4-44d9-904d-79defa3b133f",
   "metadata": {},
   "outputs": [
    {
     "name": "stdout",
     "output_type": "stream",
     "text": [
      "28\n"
     ]
    }
   ],
   "source": [
    "Studenti = 25\n",
    "Nuovi_Studenti = 3\n",
    "Totale_Studenti = (Studenti + Nuovi_Studenti)\n",
    "print (Totale_Studenti)"
   ]
  },
  {
   "cell_type": "code",
   "execution_count": 16,
   "id": "ef624b06-e3d2-416c-bb9c-c65fabf912e9",
   "metadata": {},
   "outputs": [
    {
     "name": "stdout",
     "output_type": "stream",
     "text": [
      "Epicode\n"
     ]
    }
   ],
   "source": [
    "Istituto = ('Epicode')\n",
    "print (Istituto)"
   ]
  },
  {
   "cell_type": "code",
   "execution_count": 22,
   "id": "c0120e7a-a8c2-406f-8a36-5a5343aa5094",
   "metadata": {},
   "outputs": [
    {
     "name": "stdout",
     "output_type": "stream",
     "text": [
      "36\n"
     ]
    }
   ],
   "source": [
    "x = 10\n",
    "x = (x+2)*3\n",
    "print (x)"
   ]
  },
  {
   "cell_type": "code",
   "execution_count": 27,
   "id": "16485bc8-d81a-4ff1-8cef-a56577f86ed6",
   "metadata": {},
   "outputs": [],
   "source": [
    "str1 = \"Windows\" \n",
    "str2 = \"Excel\" \n",
    "str3 = \"Powerpoint\" \n",
    "str4 = \"Word\"\n",
    "\n",
    "\n"
   ]
  },
  {
   "cell_type": "code",
   "execution_count": 26,
   "id": "e283eb6e-3cff-4e8d-ae40-c9d130f8498b",
   "metadata": {},
   "outputs": [
    {
     "data": {
      "text/plain": [
       "7"
      ]
     },
     "execution_count": 26,
     "metadata": {},
     "output_type": "execute_result"
    }
   ],
   "source": [
    "len (str1)"
   ]
  },
  {
   "cell_type": "code",
   "execution_count": 28,
   "id": "e3f69962-97a8-4613-bacb-94dcd9c47159",
   "metadata": {},
   "outputs": [
    {
     "data": {
      "text/plain": [
       "5"
      ]
     },
     "execution_count": 28,
     "metadata": {},
     "output_type": "execute_result"
    }
   ],
   "source": [
    "len (str2)"
   ]
  },
  {
   "cell_type": "code",
   "execution_count": 29,
   "id": "a27cb9f9-3142-4480-8d75-190a466dd144",
   "metadata": {},
   "outputs": [
    {
     "data": {
      "text/plain": [
       "10"
      ]
     },
     "execution_count": 29,
     "metadata": {},
     "output_type": "execute_result"
    }
   ],
   "source": [
    "len (str3)"
   ]
  },
  {
   "cell_type": "code",
   "execution_count": 30,
   "id": "c0b00c6b-ba38-4615-8b3e-15091e98665b",
   "metadata": {},
   "outputs": [
    {
     "data": {
      "text/plain": [
       "4"
      ]
     },
     "execution_count": 30,
     "metadata": {},
     "output_type": "execute_result"
    }
   ],
   "source": [
    "len (str4)"
   ]
  },
  {
   "cell_type": "code",
   "execution_count": 33,
   "id": "edd4c5b6-a1a9-49db-a953-50097b28a3d7",
   "metadata": {},
   "outputs": [
    {
     "name": "stdout",
     "output_type": "stream",
     "text": [
      "31536000\n"
     ]
    }
   ],
   "source": [
    "#calcolare quanti secondi ci sono in un anno non bisestile\n",
    "giorni = 365\n",
    "ore_al_giorno = 24\n",
    "minuti_all_ora = 60\n",
    "secondi_al_minuto = 60\n",
    "secondi_annuali= giorni*ore_al_giorno*minuti_all_ora*secondi_al_minuto\n",
    "print (secondi_annuali)"
   ]
  },
  {
   "cell_type": "code",
   "execution_count": 46,
   "id": "d93d483b-a2e8-44bb-b0cd-f857824f0fd3",
   "metadata": {},
   "outputs": [
    {
     "name": "stdout",
     "output_type": "stream",
     "text": [
      "I AM STUDYING PYTHON\n"
     ]
    }
   ],
   "source": [
    "#cambiare la stringa in \"TUTO MAIUSCOLO\"\n",
    "my_string = \"I am studying Python\"\n",
    "print(my_string.upper())"
   ]
  },
  {
   "cell_type": "code",
   "execution_count": 47,
   "id": "fcd79ec6-9da9-4840-8e4a-a96545256d70",
   "metadata": {},
   "outputs": [
    {
     "name": "stdout",
     "output_type": "stream",
     "text": [
      "i am studying python\n"
     ]
    }
   ],
   "source": [
    "#cambaire la stringa in \"tutto minuscolo\"\n",
    "my_string = \"I am studying Python\"\n",
    "print(my_string.lower())"
   ]
  },
  {
   "cell_type": "code",
   "execution_count": 49,
   "id": "1c92e5c1-e36f-4930-bcdb-8283e57a39d8",
   "metadata": {},
   "outputs": [
    {
     "name": "stdout",
     "output_type": "stream",
     "text": [
      "I am studying a lot\n"
     ]
    }
   ],
   "source": [
    "#sostituire \"Python\" con \"a lot\"\n",
    "my_string = \"I am studying Python\"\n",
    "nuovo_titolo = my_string.replace(\"Python\", \"a lot\") \n",
    "print(nuovo_titolo)"
   ]
  },
  {
   "cell_type": "code",
   "execution_count": 51,
   "id": "834ef6c1-c935-44e3-bee3-d82bbba810b2",
   "metadata": {},
   "outputs": [
    {
     "name": "stdout",
     "output_type": "stream",
     "text": [
      "I am studying Python\n"
     ]
    }
   ],
   "source": [
    "#utilizzare il metodo .strip () per verificare un ipotetico cambiamento\n",
    "my_string = \"I am studying Python\"\n",
    "print(my_string.strip())\n",
    "\n",
    "#non cambia nulla perché non ci sono spazi vuoti all'inizio e/o alla fine"
   ]
  },
  {
   "cell_type": "code",
   "execution_count": 52,
   "id": "56b73a04-f557-43d1-b62d-9f7a04f7fe7e",
   "metadata": {},
   "outputs": [
    {
     "name": "stdout",
     "output_type": "stream",
     "text": [
      "['I', 'am', 'studying', 'Python']\n"
     ]
    }
   ],
   "source": [
    "#utilizzare il metodo .split() per trovare tutte le parole\n",
    "my_string = \"I am studying Python\"\n",
    "print(my_string.split())"
   ]
  },
  {
   "cell_type": "code",
   "execution_count": 59,
   "id": "f4913055-9ecf-4aaa-84b1-8a27e6f9a8b3",
   "metadata": {},
   "outputs": [
    {
     "name": "stdout",
     "output_type": "stream",
     "text": [
      "['Alex', 'Bob', 'Cindy', 'Dan', 'Emma', 'Faith', 'Grace', 'Henry', 'Vincenzo', 'Antonio', 'Agostino', 'Michele', 'Ciro']\n"
     ]
    }
   ],
   "source": [
    "#alla lista cui mancano dei dati, aggiungiamo i dati mancanti uno alla volta con il metodo .append()\n",
    "\n",
    "#Emma segue Data Analyst \n",
    "#Faith segue Backend\n",
    "#Grace segue Frontend \n",
    "#Henry segue Cybersecurity\n",
    "studenti = [\"Alex\", \"Bob\", \"Cindy\", \"Dan\", \"Emma\", \"Faith\", \"Grace\", \"Henry\"]\n",
    "corsi = [\"Cybersecurity\", \"Data Analyst\", \"Backend\", \"Frontend\", \"Data Analyst\", \"Backend\"]\n",
    "\n",
    "\n",
    "#non mancano elementi nelle liste dati ma ai fini dell'esercizio procedo con l'inserimento di altri dati.\n",
    "\n",
    "studenti.append('Vincenzo')\n",
    "studenti.append('Antonio')\n",
    "studenti.append('Agostino')\n",
    "studenti.append('Michele')\n",
    "studenti.append('Ciro')\n",
    "\n",
    "print (studenti)\n",
    "\n",
    "\n",
    "\n"
   ]
  },
  {
   "cell_type": "code",
   "execution_count": 60,
   "id": "4f0d3771-c05b-4af6-8939-969c7337427f",
   "metadata": {},
   "outputs": [
    {
     "name": "stdout",
     "output_type": "stream",
     "text": [
      "['Cybersecurity', 'Data Analyst', 'Backend', 'Frontend', 'Data Analyst', 'Backend', 'Sales', 'Advertising', 'Accounting', 'React', 'Python']\n"
     ]
    }
   ],
   "source": [
    "\n",
    "\n",
    "\n",
    "corsi.append('Sales')\n",
    "corsi.append('Advertising')\n",
    "corsi.append('Accounting')\n",
    "corsi.append('React')\n",
    "corsi.append('Python')\n",
    "\n",
    "print (corsi)\n"
   ]
  },
  {
   "cell_type": "code",
   "execution_count": null,
   "id": "9649600e-166c-4d75-9e45-343a725169be",
   "metadata": {},
   "outputs": [],
   "source": []
  }
 ],
 "metadata": {
  "kernelspec": {
   "display_name": "Python [conda env:base] *",
   "language": "python",
   "name": "conda-base-py"
  },
  "language_info": {
   "codemirror_mode": {
    "name": "ipython",
    "version": 3
   },
   "file_extension": ".py",
   "mimetype": "text/x-python",
   "name": "python",
   "nbconvert_exporter": "python",
   "pygments_lexer": "ipython3",
   "version": "3.12.7"
  }
 },
 "nbformat": 4,
 "nbformat_minor": 5
}

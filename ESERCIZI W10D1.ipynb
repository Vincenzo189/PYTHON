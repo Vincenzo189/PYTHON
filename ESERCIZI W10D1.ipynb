{
 "cells": [
  {
   "cell_type": "code",
   "execution_count": 11,
   "id": "01ed496f-2f6e-4609-8eb2-929747e1ce75",
   "metadata": {},
   "outputs": [
    {
     "data": {
      "text/plain": [
       "'studente_dapt'"
      ]
     },
     "execution_count": 11,
     "metadata": {},
     "output_type": "execute_result"
    }
   ],
   "source": [
    "import os\n",
    "import dotenv\n",
    "import sqlalchemy\n",
    "import pandas as pd\n",
    "\n",
    "dotenv.load_dotenv(dotenv_path=\"cred.env\", override=True)\n",
    "\n",
    "os.getenv(\"username\")"
   ]
  },
  {
   "cell_type": "code",
   "execution_count": 12,
   "id": "0c5ff9c6-fbfa-4ddd-adb4-08d48d44f8a2",
   "metadata": {},
   "outputs": [],
   "source": [
    "import numpy as np"
   ]
  },
  {
   "cell_type": "code",
   "execution_count": 13,
   "id": "fb49937f-3d0f-4a6c-9252-22c305598e4b",
   "metadata": {},
   "outputs": [],
   "source": [
    "#ESERCIZIO 1 Che tipo di struttura dati o matematica potrebbe rappresentare? \n",
    "#Notare che tutte le liste \"interne\" sono della stessa dimensione Come facciamo per accedere ad un elemento in particolare?"
   ]
  },
  {
   "cell_type": "code",
   "execution_count": 14,
   "id": "4f488a56-bbae-47fc-afff-833796aeef8c",
   "metadata": {},
   "outputs": [],
   "source": [
    "#Potrebbe rappresentare una matrice o anche come un array bidimensionale."
   ]
  },
  {
   "cell_type": "code",
   "execution_count": 15,
   "id": "d74a5745-af99-4881-adc1-d65c29182911",
   "metadata": {},
   "outputs": [],
   "source": [
    "mat = [[0, 1, 2, 3, 4], \n",
    "       [5, 6, 7, 8, 9], \n",
    "       [10, 11, 12, 13, 14]]\n",
    "\n"
   ]
  },
  {
   "cell_type": "code",
   "execution_count": 16,
   "id": "435b2010-dd7c-4618-982e-d00284708e6d",
   "metadata": {},
   "outputs": [
    {
     "data": {
      "text/plain": [
       "8"
      ]
     },
     "execution_count": 16,
     "metadata": {},
     "output_type": "execute_result"
    }
   ],
   "source": [
    "#mat[riga][colonna]\n",
    "mat[1][3]"
   ]
  },
  {
   "cell_type": "code",
   "execution_count": 17,
   "id": "efdb37b4-d32c-469e-95c1-4c63672078da",
   "metadata": {},
   "outputs": [],
   "source": [
    "#ESERCIZIO 2 Importiamo il modulo math"
   ]
  },
  {
   "cell_type": "code",
   "execution_count": 18,
   "id": "e1ae4f02-8207-4f43-89f1-21b853fa1341",
   "metadata": {},
   "outputs": [],
   "source": [
    "import math"
   ]
  },
  {
   "cell_type": "code",
   "execution_count": 19,
   "id": "887af69d-5948-4df0-b0cb-630fd9d7a839",
   "metadata": {},
   "outputs": [],
   "source": [
    "#la variabile .pi la riconoscete? Si è pigreco"
   ]
  },
  {
   "cell_type": "code",
   "execution_count": 20,
   "id": "0d01865f-fe97-432c-803f-4e8a5d101966",
   "metadata": {},
   "outputs": [
    {
     "data": {
      "text/plain": [
       "180.0"
      ]
     },
     "execution_count": 20,
     "metadata": {},
     "output_type": "execute_result"
    }
   ],
   "source": [
    "math.degrees(math.pi)"
   ]
  },
  {
   "cell_type": "code",
   "execution_count": 21,
   "id": "6b25ec96-5caa-4900-85f2-65ea5a29005a",
   "metadata": {},
   "outputs": [
    {
     "name": "stdout",
     "output_type": "stream",
     "text": [
      "Help on built-in function degrees in module math:\n",
      "\n",
      "degrees(x, /)\n",
      "    Convert angle x from radians to degrees.\n",
      "\n"
     ]
    }
   ],
   "source": [
    "help(math.degrees)"
   ]
  },
  {
   "cell_type": "code",
   "execution_count": 22,
   "id": "937c99bc-bd13-43ab-b33b-4fc0fb9f7475",
   "metadata": {},
   "outputs": [],
   "source": [
    "#La funzione math.degrees(x) converte un angolo da radianti a gradi."
   ]
  },
  {
   "cell_type": "code",
   "execution_count": 23,
   "id": "c03cf35d-7acb-4d7f-b326-f684d24fe3e2",
   "metadata": {},
   "outputs": [],
   "source": [
    "#ESERCIZIO 3 trasformiamo la seguente lista in un array NumPy (casting):"
   ]
  },
  {
   "cell_type": "code",
   "execution_count": null,
   "id": "94089c76-bee0-48fc-9dcc-1d745d77c5b4",
   "metadata": {},
   "outputs": [],
   "source": []
  },
  {
   "cell_type": "code",
   "execution_count": 44,
   "id": "8ed62837-d745-486e-9b03-d386b7d122bc",
   "metadata": {},
   "outputs": [],
   "source": [
    "lst = [2000, 5500, 7200, 4320, 1280, 1900, 2500, 3900, 6410, 8150, 7100, 5350]"
   ]
  },
  {
   "cell_type": "code",
   "execution_count": 45,
   "id": "1593b6bb-75b7-4e79-9689-33b2dbaeafb8",
   "metadata": {},
   "outputs": [],
   "source": [
    "arr = np.array(lst)"
   ]
  },
  {
   "cell_type": "code",
   "execution_count": 46,
   "id": "9a8d8aca-55b8-4897-b7da-8a43e7c87dcf",
   "metadata": {},
   "outputs": [],
   "source": [
    "#qual è stata la vendita massima mensile? E quella minima?"
   ]
  },
  {
   "cell_type": "code",
   "execution_count": 47,
   "id": "e778217d-ce6f-4a71-b8c3-97b410b6925d",
   "metadata": {},
   "outputs": [
    {
     "name": "stdout",
     "output_type": "stream",
     "text": [
      "[2000, 5500, 7200, 4320, 1280, 1900, 2500, 3900, 6410, 8150, 7100, 5350]\n"
     ]
    }
   ],
   "source": [
    "print (lst)\n"
   ]
  },
  {
   "cell_type": "code",
   "execution_count": 48,
   "id": "aa1310fd-70e6-4eb2-8822-a86c67800e20",
   "metadata": {},
   "outputs": [
    {
     "data": {
      "text/plain": [
       "8150"
      ]
     },
     "execution_count": 48,
     "metadata": {},
     "output_type": "execute_result"
    }
   ],
   "source": [
    "arr.max()"
   ]
  },
  {
   "cell_type": "code",
   "execution_count": 49,
   "id": "832c1fd1-20aa-4809-a217-f9f93e061ff6",
   "metadata": {},
   "outputs": [
    {
     "data": {
      "text/plain": [
       "1280"
      ]
     },
     "execution_count": 49,
     "metadata": {},
     "output_type": "execute_result"
    }
   ],
   "source": [
    "arr.min()"
   ]
  },
  {
   "cell_type": "code",
   "execution_count": 50,
   "id": "c324493e-9280-4f6d-ba81-15e58f15f6bd",
   "metadata": {},
   "outputs": [],
   "source": [
    "#quali sono le vendite mensili maggiori di 4999 oggetti? E quante ne sono?"
   ]
  },
  {
   "cell_type": "code",
   "execution_count": 51,
   "id": "44991638-55c7-4813-ab63-7c2ecd57163e",
   "metadata": {},
   "outputs": [
    {
     "name": "stdout",
     "output_type": "stream",
     "text": [
      "Vendite > 4999: [5500 7200 6410 8150 7100 5350]\n",
      "Numero: 6\n"
     ]
    }
   ],
   "source": [
    "lst = [2000, 5500, 7200, 4320, 1280, 1900, 2500, 3900, 6410, 8150, 7100, 5350]\n",
    "arr = np.array(lst)\n",
    "\n",
    "vendite_superiori = arr[arr > 4999]\n",
    "print(\"Vendite > 4999:\", vendite_superiori)\n",
    "print(\"Numero:\", len(vendite_superiori))"
   ]
  },
  {
   "cell_type": "code",
   "execution_count": 52,
   "id": "81477584-4da1-40d2-a3cc-89401b97aa68",
   "metadata": {},
   "outputs": [],
   "source": [
    "#quali sono le vendite mensili minori di 3000 oggetti?"
   ]
  },
  {
   "cell_type": "code",
   "execution_count": 53,
   "id": "db0cf4cc-ee99-4be9-a87b-e5283ac407d3",
   "metadata": {},
   "outputs": [
    {
     "name": "stdout",
     "output_type": "stream",
     "text": [
      "Vendite < 3000: [2000 1280 1900 2500]\n"
     ]
    }
   ],
   "source": [
    "lst = [2000, 5500, 7200, 4320, 1280, 1900, 2500, 3900, 6410, 8150, 7100, 5350]\n",
    "arr = np.array(lst)\n",
    "\n",
    "vendite_inferiori = arr[arr < 3000]\n",
    "print(\"Vendite < 3000:\", vendite_inferiori)"
   ]
  },
  {
   "cell_type": "code",
   "execution_count": 54,
   "id": "080be3d7-b235-47d4-ad18-b2793d31788f",
   "metadata": {},
   "outputs": [],
   "source": [
    "#in media quanti oggetti sono stati venduti al mese?"
   ]
  },
  {
   "cell_type": "code",
   "execution_count": 55,
   "id": "2569a4db-8aab-4ea0-b802-27e8399d5493",
   "metadata": {},
   "outputs": [
    {
     "data": {
      "text/plain": [
       "4634.166666666667"
      ]
     },
     "execution_count": 55,
     "metadata": {},
     "output_type": "execute_result"
    }
   ],
   "source": [
    "lst = [2000, 5500, 7200, 4320, 1280, 1900, 2500, 3900, 6410, 8150, 7100, 5350]\n",
    "arr = np.array(lst)\n",
    "arr.mean()"
   ]
  },
  {
   "cell_type": "code",
   "execution_count": null,
   "id": "bad71ce2-77b5-423d-9a46-f02196b5f5bc",
   "metadata": {},
   "outputs": [],
   "source": [
    "#ESERCIZIO 4 abbiamo il seguente dizionario e la seguente series:"
   ]
  },
  {
   "cell_type": "code",
   "execution_count": 56,
   "id": "863c6f47-7534-452b-a315-79f367ad4051",
   "metadata": {},
   "outputs": [],
   "source": [
    "fatturati_series = pd.Series([12_000, 15_000, 20_000, 23_000, 25_000, 17_000, 14_000, 21_000], \n",
    "                             index=range(1997, 2005))"
   ]
  },
  {
   "cell_type": "code",
   "execution_count": 57,
   "id": "c26f4ba0-9961-4289-bb16-269f6571ab94",
   "metadata": {},
   "outputs": [],
   "source": [
    "fatturati_dict = {1997: 12_000, 1998: 15_000, 1999: 20_000, 2000: 23_000, 2001: 25_000, 2002: 17_000, 2003: 14_000, 2004: 21_000}"
   ]
  },
  {
   "cell_type": "code",
   "execution_count": null,
   "id": "86778ee2-7c7d-4760-99c4-cea751bff98e",
   "metadata": {},
   "outputs": [],
   "source": [
    "#Possiamo accedere alle stesse informazioni nello stesso modo"
   ]
  },
  {
   "cell_type": "code",
   "execution_count": 58,
   "id": "71c1c2cc-c97b-4c2d-bcad-97f324b6c14b",
   "metadata": {},
   "outputs": [
    {
     "data": {
      "text/plain": [
       "12000"
      ]
     },
     "execution_count": 58,
     "metadata": {},
     "output_type": "execute_result"
    }
   ],
   "source": [
    "fatturati_dict[1997]"
   ]
  },
  {
   "cell_type": "code",
   "execution_count": 59,
   "id": "2af908ed-96b3-413b-bcec-66f2af890de1",
   "metadata": {},
   "outputs": [
    {
     "data": {
      "text/plain": [
       "12000"
      ]
     },
     "execution_count": 59,
     "metadata": {},
     "output_type": "execute_result"
    }
   ],
   "source": [
    "fatturati_series[1997]"
   ]
  },
  {
   "cell_type": "code",
   "execution_count": null,
   "id": "bea87333-b25b-4564-99b2-df16f90fd7a2",
   "metadata": {},
   "outputs": [],
   "source": [
    "#Dunque qual è la differenza tra i due tipi di dato? Cosa potremmo fare con la Series che non possiamo fare con il dizionario?"
   ]
  },
  {
   "cell_type": "code",
   "execution_count": 60,
   "id": "fe023e7b-13fe-41a9-91d9-17fcaa071c06",
   "metadata": {},
   "outputs": [],
   "source": [
    "# il dizionario è una Collezione non ordinata di coppie chiave-valore mentre"
   ]
  },
  {
   "cell_type": "code",
   "execution_count": null,
   "id": "331691ea-9965-4c71-a92b-b0b27b582318",
   "metadata": {},
   "outputs": [],
   "source": [
    "# la series è una struttura ordinata con etichetta di indice"
   ]
  },
  {
   "cell_type": "code",
   "execution_count": null,
   "id": "e1c671da-d026-4647-bd18-700f51f65e74",
   "metadata": {},
   "outputs": [],
   "source": [
    "# la series ti permette di fare, a differenza del dict, operazioni matematiche, conversione in DataFrame, maschere, Funzioni statistiche"
   ]
  },
  {
   "cell_type": "code",
   "execution_count": null,
   "id": "e4042d85-fb2d-4043-9a7a-76edf4526aba",
   "metadata": {},
   "outputs": [],
   "source": [
    "#ESERCIZIO 5 L'azienda Object SpA ha un dataset con tutti gli stipendi dei dipendenti, memorizzato in un ndarray:"
   ]
  },
  {
   "cell_type": "code",
   "execution_count": 65,
   "id": "81ed7f75-44cf-47c8-8fc7-2a7178ab3889",
   "metadata": {},
   "outputs": [],
   "source": [
    "import numpy as np \n",
    "stipendi = np.array( [100, 200, 300, 400, 500,  600, 700, 800, 900, 1000] )"
   ]
  },
  {
   "cell_type": "code",
   "execution_count": null,
   "id": "1eb81d85-63b3-4c61-99a6-f6252c3746f3",
   "metadata": {},
   "outputs": [],
   "source": [
    "#L'azienda ci chiede di raddoppiare tutti gli stipendi (con for e masking)"
   ]
  },
  {
   "cell_type": "code",
   "execution_count": 67,
   "id": "3919f6d1-4f69-449e-867c-434f141cda02",
   "metadata": {},
   "outputs": [
    {
     "name": "stdout",
     "output_type": "stream",
     "text": [
      "[ 200  400  600  800 1000 1200 1400 1600 1800 2000]\n"
     ]
    }
   ],
   "source": [
    "stipendi_raddoppiati = []\n",
    "for stipendio in stipendi:\n",
    "    stipendi_raddoppiati.append(stipendio * 2)\n",
    "    \n",
    "stipendi_raddoppiati = np.array(stipendi_raddoppiati)\n",
    "print (stipendi_raddoppiati)"
   ]
  },
  {
   "cell_type": "code",
   "execution_count": 68,
   "id": "b5855496-109c-4535-b91a-25855aef58b5",
   "metadata": {},
   "outputs": [
    {
     "name": "stdout",
     "output_type": "stream",
     "text": [
      "[ 200  400  600  800 1000 1200 1400 1600 1800 2000]\n"
     ]
    }
   ],
   "source": [
    "stipendi_raddoppiati = stipendi * 2\n",
    "print (stipendi_raddoppiati)"
   ]
  },
  {
   "cell_type": "code",
   "execution_count": null,
   "id": "15db6220-052e-466d-9d1b-b68c0d876056",
   "metadata": {},
   "outputs": [],
   "source": []
  }
 ],
 "metadata": {
  "kernelspec": {
   "display_name": "Python [conda env:base] *",
   "language": "python",
   "name": "conda-base-py"
  },
  "language_info": {
   "codemirror_mode": {
    "name": "ipython",
    "version": 3
   },
   "file_extension": ".py",
   "mimetype": "text/x-python",
   "name": "python",
   "nbconvert_exporter": "python",
   "pygments_lexer": "ipython3",
   "version": "3.12.7"
  }
 },
 "nbformat": 4,
 "nbformat_minor": 5
}
